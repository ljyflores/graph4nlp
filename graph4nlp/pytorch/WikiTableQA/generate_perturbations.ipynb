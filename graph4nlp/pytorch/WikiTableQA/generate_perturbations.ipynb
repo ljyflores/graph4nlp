{
 "cells": [
  {
   "cell_type": "code",
   "execution_count": 1,
   "metadata": {},
   "outputs": [],
   "source": [
    "import pandas as pd\n",
    "import numpy as np\n",
    "import random\n",
    "\n",
    "CSV_PATH = 'data/WikiTableQuestions/'\n",
    "KEY = 'WikiSQL'\n",
    "DATASET = 'dev'\n",
    "\n",
    "if KEY == 'WikiTableQuestions':\n",
    "    if DATASET=='train':\n",
    "        iter_item = pd.read_csv(f'WikiTableQA/data/training.tsv', delimiter='\\t')\n",
    "    elif DATASET=='test':\n",
    "        iter_item = pd.read_csv(f'WikiTableQA/data/pristine-unseen-tables.tsv', delimiter='\\t')\n",
    "    elif 'dev' in DATASET:\n",
    "        iter_item = pd.read_csv(f'WikiTableQA/data/random-split-{DATASET[-1]}-dev.tsv', delimiter='\\t')\n",
    "    else:\n",
    "        print(\"Dataset should be in ['train','test','dev']\")\n",
    "        assert False\n",
    "elif KEY == 'WikiSQL':\n",
    "    if DATASET=='train':\n",
    "        iter_item = pd.read_csv(f'WikiSQL/annotated/train.csv')\n",
    "    elif DATASET=='test':\n",
    "        iter_item = pd.read_csv(f'WikiSQL/annotated/test.csv')\n",
    "    elif 'dev' in DATASET:\n",
    "        iter_item = pd.read_csv(f'WikiSQL/annotated/dev.csv')\n",
    "    else:\n",
    "        print(\"Dataset should be in ['train','test','dev']\")\n",
    "        assert False\n",
    "\n",
    "\n",
    "with open('stopwords.txt') as f:\n",
    "    stopwords = list(map(lambda x: x.strip(), f.readlines()))"
   ]
  },
  {
   "cell_type": "code",
   "execution_count": 2,
   "metadata": {},
   "outputs": [],
   "source": [
    "def perturb_table(df, target, question):\n",
    "    # Find rows to switch using the target value \n",
    "    match_row_idx, match_col_idx = np.where(df.applymap(lambda x: str(x).lower())==target.lower())\n",
    "    \n",
    "    # # If none, find rows to switch using keywords from the question\n",
    "    # if len(set(match_row_idx)) in [0, df.shape[0]]:\n",
    "    #     keywords = set(question.lower().split())                                         # Collect keywords from the question\n",
    "    #     keywords = list(filter(lambda x: len(x)>1 and (x not in stopwords), keywords))           # Filter out stopwords\n",
    "    #     match_count = df.shape[0]\n",
    "    #     for word in keywords:\n",
    "    #         temp_row_idx, temp_col_idx = np.where(df.applymap(lambda x: word in str(x).lower())) # Identify the keyword with the least number of matches\n",
    "    #         num_matches = len(set(temp_row_idx))                                                 # Count how many rows matched\n",
    "    #         if num_matches<match_count and num_matches>0:                                        # If we find a keyword that matches fewer rows (but non-zero)\n",
    "    #             match_count = num_matches                                                        # Then use that keyword to swap rows\n",
    "    #             match_row_idx, match_col_idx = temp_row_idx, temp_col_idx\n",
    "    \n",
    "    if len(set(match_row_idx)) not in [0, df.shape[0]]:\n",
    "        new_row_idx = random.choice(list(set(range(df.shape[0])).difference(set(match_row_idx))))\n",
    "        df.iloc[match_row_idx[0], match_col_idx[0]], df.iloc[new_row_idx, match_col_idx[0]] = df.iloc[new_row_idx, match_col_idx[0]], df.iloc[match_row_idx[0], match_col_idx[0]]\n",
    "        new_answer = df.iloc[match_row_idx[0], match_col_idx[0]]\n",
    "        return df, new_answer\n",
    "    else:\n",
    "        return 'None', 'None'"
   ]
  },
  {
   "cell_type": "code",
   "execution_count": 3,
   "metadata": {},
   "outputs": [],
   "source": [
    "def get_item_table(row):\n",
    "    try:\n",
    "        pd_table = pd.read_csv(f\"WikiTableQuestions/{row['context'][:-4]}.tsv\", \n",
    "                           delimiter='\\t')\n",
    "    except:\n",
    "        pd_table = pd.read_csv(f\"WikiTableQuestions/{row['context']}\")\n",
    "    # Get question and answer\n",
    "    question = row['utterance']\n",
    "    answer   = row['targetValue']\n",
    "    return pd_table, question, answer\n",
    "\n",
    "def get_sql_table(row, DATASET):\n",
    "    DATASET_ = DATASET if 'dev' not in DATASET else 'dev'\n",
    "    pd_table = pd.read_csv(f\"WikiSQL/csv/{DATASET_}/{row['table_id']}.csv\")\n",
    "    question = row['question']\n",
    "    answer   = row['answer']\n",
    "    return pd_table, question, answer\n"
   ]
  },
  {
   "cell_type": "code",
   "execution_count": 4,
   "metadata": {},
   "outputs": [],
   "source": [
    "for idx, row in iter_item.iterrows():\n",
    "    pd_table, question, answer = get_item_table(row) \\\n",
    "                                    if KEY=='WikiTableQuestions' \\\n",
    "                                    else get_sql_table(row, DATASET)\n",
    "    answer = answer.strip('[]').strip(\"'\")\n",
    "    \n",
    "    new_table, new_answer = perturb_table(pd_table, answer, question)\n",
    "    \n",
    "    if type(new_table)!=str:\n",
    "        new_table.to_csv(f'{KEY}/csv_perturbed/{DATASET}/{row[\"table_id\"]}.csv', index=False)\n",
    "        iter_item.loc[idx,'targetValue_new'] = new_answer\n",
    "        iter_item.loc[idx,'perturb_flag'] = 1\n",
    "    else:\n",
    "        iter_item.loc[idx,'targetValue_new'] = None\n",
    "        iter_item.loc[idx,'perturb_flag'] = 0"
   ]
  },
  {
   "cell_type": "code",
   "execution_count": 5,
   "metadata": {},
   "outputs": [],
   "source": [
    "iter_item.loc[(iter_item.perturb_flag==1)&\\\n",
    "             (~iter_item.targetValue_new.isnull())]\\\n",
    "        .reset_index(drop=True)\\\n",
    "        .to_csv(f'{KEY}/seq2seq_data/{DATASET}_perturb.csv', index=False)"
   ]
  },
  {
   "cell_type": "code",
   "execution_count": null,
   "metadata": {},
   "outputs": [],
   "source": []
  }
 ],
 "metadata": {
  "kernelspec": {
   "display_name": "Python 3.9.5 ('base': conda)",
   "language": "python",
   "name": "python3"
  },
  "language_info": {
   "codemirror_mode": {
    "name": "ipython",
    "version": 3
   },
   "file_extension": ".py",
   "mimetype": "text/x-python",
   "name": "python",
   "nbconvert_exporter": "python",
   "pygments_lexer": "ipython3",
   "version": "3.8.13"
  },
  "orig_nbformat": 4,
  "vscode": {
   "interpreter": {
    "hash": "0d78cf5354c54536ee2fe2974b55665bb4fd5d446126f0c5d0792c4750b1da66"
   }
  }
 },
 "nbformat": 4,
 "nbformat_minor": 2
}
